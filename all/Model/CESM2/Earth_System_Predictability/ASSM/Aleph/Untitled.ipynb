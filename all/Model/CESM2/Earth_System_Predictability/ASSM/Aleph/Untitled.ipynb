{
 "cells": [
  {
   "cell_type": "code",
   "execution_count": null,
   "id": "53c77b25-1bc4-4000-b6f9-7ad53f400800",
   "metadata": {},
   "outputs": [],
   "source": [
    "# 1. NPP_sp\n",
    "cfg_var_NPP_sp.ODA_path_load(cfg_var_NPP_sp.var)\n",
    "\n",
    "ODA_ds = xr.open_mfdataset(cfg_var_NPP_sp.ODA_file_list[0][0:10],\n",
    "                           chunks={'time': 12}, \n",
    "                           combine='nested', \n",
    "                           concat_dim=[[*cfg_var_NPP_sp.ODA_ensembles[0:10]], 'time'], \n",
    "                           parallel=True,\n",
    "                           preprocess=lambda ds: process_coords(ds, start_date, end_date),\n",
    "                           decode_cf=True, \n",
    "                           decode_times=True)\n",
    "\n",
    "ODA_ds2 = xr.open_mfdataset(cfg_var_NPP_sp.ODA_file_list[0][10:20], \n",
    "                           chunks={'time': 12}, \n",
    "                           combine='nested', \n",
    "                           concat_dim=[[*cfg_var_NPP_sp.ODA_ensembles[10:20]], 'time'], \n",
    "                           parallel=True,\n",
    "                           preprocess=lambda ds: process_coords(ds, start_date, end_date),\n",
    "                           decode_cf=True, \n",
    "                           decode_times=True)\n",
    "\n",
    "# en4.2 -> until 2021; projdv7.3 -> until 2020; need to be read separately\n",
    "ODA_ds_a = []\n",
    "ODA_ds_a.append(ODA_ds)\n",
    "ODA_ds_xr = xr.concat(ODA_ds_a, dim='time')\n",
    "ODA_ds_xr = ODA_ds_xr.expand_dims({'ens': range(10)})\n",
    "\n",
    "ODA_ds2_a = []\n",
    "ODA_ds2_a.append(ODA_ds2)\n",
    "ODA_ds2_xr = xr.concat(ODA_ds2_a, dim='time')\n",
    "ODA_ds2_xr = ODA_ds2_xr.expand_dims({'ens': range(10, 20)})\n",
    "\n",
    "cfg_var_NPP_sp.ODA_ds = []\n",
    "cfg_var_NPP_sp.ODA_ds.append(ODA_ds_xr)\n",
    "cfg_var_NPP_sp.ODA_ds.append(ODA_ds2_xr)\n",
    "cfg_var_NPP_sp.ODA_ds = xr.concat(cfg_var_NPP_sp.ODA_ds, dim='ens')\n",
    "cfg_var_NPP_sp.ODA_ds = cfg_var_NPP_sp.ODA_ds.reindex(ens=list(range(1, 20+1)))\n",
    "cfg_var_NPP_sp.ODA_ds = cfg_var_NPP_sp.ODA_ds.sortby('time')\n",
    "\n",
    "cfg_var_NPP_sp.ODA_ds = cfg_var_NPP_sp.ODA_ds.rename({\"concat_dim\": \"ens_ODA\"})\n",
    "new_time = cfg_var_NPP_sp.ODA_ds.time - np.array([datetime.timedelta(days=15)] * len(cfg_var_NPP_sp.ODA_ds.time))\n",
    "cfg_var_NPP_sp.ODA_ds = cfg_var_NPP_sp.ODA_ds.assign_coords(time=new_time)\n",
    "cfg_var_NPP_sp.ODA_ds = cfg_var_NPP_sp.ODA_ds.drop('ens')\n",
    "cfg_var_NPP_sp.ODA_ds=cfg_var_NPP_sp.ODA_ds.mean(dim='ens')"
   ]
  },
  {
   "cell_type": "code",
   "execution_count": null,
   "id": "8e0cbb88-0ea5-4efb-990a-bab46200ca4b",
   "metadata": {},
   "outputs": [],
   "source": []
  }
 ],
 "metadata": {
  "kernelspec": {
   "display_name": "Python 3 (ipykernel)",
   "language": "python",
   "name": "python3"
  },
  "language_info": {
   "codemirror_mode": {
    "name": "ipython",
    "version": 3
   },
   "file_extension": ".py",
   "mimetype": "text/x-python",
   "name": "python",
   "nbconvert_exporter": "python",
   "pygments_lexer": "ipython3",
   "version": "3.11.4"
  }
 },
 "nbformat": 4,
 "nbformat_minor": 5
}
