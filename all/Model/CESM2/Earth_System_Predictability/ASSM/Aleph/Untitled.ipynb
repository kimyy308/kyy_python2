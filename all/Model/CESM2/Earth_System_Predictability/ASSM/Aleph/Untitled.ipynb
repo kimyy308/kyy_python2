{
 "cells": [
  {
   "cell_type": "code",
   "execution_count": null,
   "id": "53c77b25-1bc4-4000-b6f9-7ad53f400800",
   "metadata": {},
   "outputs": [],
   "source": [
    "# Read LE dataset\n",
    "\n",
    "start_time = time.time()\n",
    "\n",
    "#TEMP\n",
    "cfg_var_TEMP.LE_path_load(cfg_var_TEMP.var)\n",
    "cfg_var_TEMP.LE_ds = xr.open_mfdataset(cfg_var_TEMP.LE_file_list[0], \n",
    "                       chunks={'time': 12}, \n",
    "                       combine='nested', \n",
    "                       concat_dim=[[*cfg_var_TEMP.LE_ensembles], 'time'], \n",
    "                       parallel=True,\n",
    "                       preprocess=lambda ds: process_coords(ds, start_date, end_date),\n",
    "                       decode_cf=True, \n",
    "                       decode_times=True)      \n",
    "\n",
    "\n",
    "cfg_var_TEMP.LE_ds = cfg_var_TEMP.LE_ds.rename({\"concat_dim\": \"ens_LE\"})\n",
    "new_time = cfg_var_TEMP.LE_ds.time - np.array([datetime.timedelta(days=15)] * len(cfg_var_TEMP.LE_ds.time))\n",
    "cfg_var_TEMP.LE_ds = cfg_var_TEMP.LE_ds.assign_coords(time=new_time)\n",
    "\n",
    "end_time = time.time()\n",
    "elapsed_time = end_time - start_time\n",
    "print('elasped time for reading LE: ' + str(elapsed_time))"
   ]
  },
  {
   "cell_type": "code",
   "execution_count": null,
   "id": "8e0cbb88-0ea5-4efb-990a-bab46200ca4b",
   "metadata": {},
   "outputs": [],
   "source": []
  }
 ],
 "metadata": {
  "kernelspec": {
   "display_name": "Python 3 (ipykernel)",
   "language": "python",
   "name": "python3"
  },
  "language_info": {
   "codemirror_mode": {
    "name": "ipython",
    "version": 3
   },
   "file_extension": ".py",
   "mimetype": "text/x-python",
   "name": "python",
   "nbconvert_exporter": "python",
   "pygments_lexer": "ipython3",
   "version": "3.11.4"
  }
 },
 "nbformat": 4,
 "nbformat_minor": 5
}
