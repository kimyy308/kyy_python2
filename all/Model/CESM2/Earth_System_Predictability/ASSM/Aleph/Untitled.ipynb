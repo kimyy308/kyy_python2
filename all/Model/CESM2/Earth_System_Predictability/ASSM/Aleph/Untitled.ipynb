{
 "cells": [
  {
   "cell_type": "code",
   "execution_count": null,
   "id": "53c77b25-1bc4-4000-b6f9-7ad53f400800",
   "metadata": {},
   "outputs": [],
   "source": [
    "# get skills\n",
    "corr_SST_OBS_LE = xr.corr(cfg_var_SST.OBS_ds_yearly, cfg_var_SST.LE_ds_obs_masked_yearly, dim='year')\n",
    "corr_SST_OBS_ODA = xr.corr(cfg_var_SST.OBS_ds_yearly, cfg_var_SST.ODA_ds_obs_masked_yearly, dim='year')\n",
    "corr_SST_OBS_ODA_diff = xr.corr(cfg_var_SST.OBS_ds_yearly, cfg_var_SST.ODA_ds_obs_masked_yearly-cfg_var_SST.LE_ds_obs_masked_yearly.mean(dim='ens_LE'), dim='year')\n",
    "corr_SST_OBS_ADA = xr.corr(cfg_var_SST.OBS_ds_yearly, cfg_var_SST.ADA_ds_obs_masked_yearly, dim='year')\n",
    "corr_SST_OBS_ADA_diff = xr.corr(cfg_var_SST.OBS_ds_yearly, cfg_var_SST.ADA_ds_obs_masked_yearly-cfg_var_SST.ODA_ds_obs_masked_yearly.mean(dim='ens_ODA'), dim='year')\n",
    "corr_SST_OBS_HCST = xr.corr(cfg_var_SST.OBS_ds_yearly, cfg_var_SST.HCST_ds_obs_masked_yearly, dim='year')\n",
    "\n",
    "# wrong way to get (collected ly2~5 from different initialized year hindcast set)\n",
    "# corr_OBS_HCST_ly25 = xr.corr(cfg_var_SST.OBS_ds_yearly, cfg_var_SST.HCST_ds_obs_masked_yearly.isel(ly=slice(1,5)).mean(dim='ly'), dim='year')\n",
    "\n",
    "corr_SST_OBS_HCST_ly25 = xr.corr(cfg_var_SST.OBS_ds_4yr, cfg_var_SST.HCST_ds_4yr, dim='year')\n",
    "corr_OBS_LE_ly25 = xr.corr(cfg_var_SST.OBS_ds_4yr, cfg_var_SST.LE_ds_4yr, dim='year')\n",
    "corr_SST_OBS_ODA_ly25 = xr.corr(cfg_var_SST.OBS_ds_4yr, cfg_var_SST.ODA_ds_4yr, dim='year')"
   ]
  }
 ],
 "metadata": {
  "kernelspec": {
   "display_name": "Python 3 (ipykernel)",
   "language": "python",
   "name": "python3"
  },
  "language_info": {
   "codemirror_mode": {
    "name": "ipython",
    "version": 3
   },
   "file_extension": ".py",
   "mimetype": "text/x-python",
   "name": "python",
   "nbconvert_exporter": "python",
   "pygments_lexer": "ipython3",
   "version": "3.11.4"
  }
 },
 "nbformat": 4,
 "nbformat_minor": 5
}
