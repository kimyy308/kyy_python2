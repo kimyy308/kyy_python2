{
 "cells": [
  {
   "cell_type": "code",
   "execution_count": null,
   "id": "53c77b25-1bc4-4000-b6f9-7ad53f400800",
   "metadata": {},
   "outputs": [],
   "source": [
    "ada_full_rolling_mean = ada_full_annual_mean.rolling(year=4, min_periods=4).mean()\n",
    "ada_full_rolling_time_mean = ada_full_annual_mean['year'].rolling(year=4, min_periods=4).mean()\n",
    "ada_full_rolling_mean = ada_full_rolling_mean.assign_coords(year=ada_full_rolling_time_mean)\n",
    "valid_index = np.where(~np.isnan(ada_full_rolling_mean['year']))[0]\n",
    "ada_full_rolling_mean = ada_full_rolling_mean.isel(year=valid_index)"
   ]
  },
  {
   "cell_type": "code",
   "execution_count": null,
   "id": "8e0cbb88-0ea5-4efb-990a-bab46200ca4b",
   "metadata": {},
   "outputs": [],
   "source": []
  }
 ],
 "metadata": {
  "kernelspec": {
   "display_name": "Python 3 (ipykernel)",
   "language": "python",
   "name": "python3"
  },
  "language_info": {
   "codemirror_mode": {
    "name": "ipython",
    "version": 3
   },
   "file_extension": ".py",
   "mimetype": "text/x-python",
   "name": "python",
   "nbconvert_exporter": "python",
   "pygments_lexer": "ipython3",
   "version": "3.11.4"
  }
 },
 "nbformat": 4,
 "nbformat_minor": 5
}
