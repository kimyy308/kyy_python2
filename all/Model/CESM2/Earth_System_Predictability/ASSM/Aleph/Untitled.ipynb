{
 "cells": [
  {
   "cell_type": "code",
   "execution_count": null,
   "id": "53c77b25-1bc4-4000-b6f9-7ad53f400800",
   "metadata": {},
   "outputs": [],
   "source": [
    "    gv_v_100m_mean_tmp = gv_v_100m_mean_tmp.rename({\"year\": \"lyears\"})\n",
    "    gv_v_100m_mean_tmp['lyears']=range(1,6)\n",
    "    gv_v_100m_mean_tmp['time_values'] = gv_v_100m_mean_tmp['year'].values\n",
    "    gv_v_100m_mean_tmp = gv_v_100m_mean_tmp.assign(time_values=(\"lyears\", HCST_ds_tmp['time_values'].values))  # time 값을 lmonths 차원과 연결\n",
    "    HCST_ds_a= []\n",
    "    HCST_ds_a.append(gv_v_100m_mean_tmp)\n",
    "    HCST_ds_xr = xr.concat(HCST_ds_a, dim='year')\n",
    "    HCST_ds_xr = HCST_ds_xr.expand_dims({'ens_HCST': 1})\n",
    "    cfg_var_gv_v_100m_mean.HCST_ds.append(HCST_ds_xr)"
   ]
  }
 ],
 "metadata": {
  "kernelspec": {
   "display_name": "Python 3 (ipykernel)",
   "language": "python",
   "name": "python3"
  },
  "language_info": {
   "codemirror_mode": {
    "name": "ipython",
    "version": 3
   },
   "file_extension": ".py",
   "mimetype": "text/x-python",
   "name": "python",
   "nbconvert_exporter": "python",
   "pygments_lexer": "ipython3",
   "version": "3.11.4"
  }
 },
 "nbformat": 4,
 "nbformat_minor": 5
}
