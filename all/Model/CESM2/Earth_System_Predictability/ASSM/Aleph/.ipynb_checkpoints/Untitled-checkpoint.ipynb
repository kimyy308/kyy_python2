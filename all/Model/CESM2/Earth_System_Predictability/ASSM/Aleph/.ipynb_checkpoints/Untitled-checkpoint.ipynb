{
 "cells": [
  {
   "cell_type": "code",
   "execution_count": null,
   "id": "53c77b25-1bc4-4000-b6f9-7ad53f400800",
   "metadata": {},
   "outputs": [],
   "source": [
    "cfg_var_SSH=CESM2_config()\n",
    "cfg_var_SSH.year_s=1955\n",
    "cfg_var_SSH.year_e=2020\n",
    "cfg_var_SSH.setvar('SSH')\n",
    "\n",
    "cfg_var_PV=CESM2_config()\n",
    "cfg_var_PV.year_s=1955\n",
    "cfg_var_PV.year_e=2020\n",
    "cfg_var_PV.setvar('PV')\n",
    "\n",
    "cfg_var_PD=CESM2_config()\n",
    "cfg_var_PD.year_s=1955\n",
    "cfg_var_PD.year_e=2020\n",
    "cfg_var_PD.setvar('PD')\n",
    "\n",
    "cfg_var_UVEL=CESM2_config()\n",
    "cfg_var_UVEL.year_s=1955\n",
    "cfg_var_UVEL.year_e=2020\n",
    "cfg_var_UVEL.setvar('UVEL')\n",
    "\n",
    "cfg_var_VVEL=CESM2_config()\n",
    "cfg_var_VVEL.year_s=1955\n",
    "cfg_var_VVEL.year_e=2020\n",
    "cfg_var_VVEL.setvar('VVEL')\n",
    "\n",
    "cfg_var_BSF=CESM2_config()\n",
    "cfg_var_BSF.year_s=1955\n",
    "cfg_var_BSF.year_e=2020\n",
    "cfg_var_BSF.setvar('BSF')\n",
    "\n",
    "start_date = cftime.DatetimeNoLeap(cfg_var_SSH.year_s, 2, 1)\n",
    "end_date = cftime.DatetimeNoLeap(cfg_var_SSH.year_e+1, 1, 1)\n",
    "\n",
    "ds_grid = pop_tools.get_grid('POP_gx1v7')\n",
    "\n",
    "mask_pacific = ds_grid.REGION_MASK.where(ds_grid.REGION_MASK == 2)\n",
    "mask_pacific=mask_pacific/2\n",
    "\n",
    "# PV (potential vorticity; 1/s/cm), PD (potential density; gram/centimeter^3), UVEL (centimeter/s) , VVEL(centimeter/s), \n",
    "# BSF (diagnostic barotropic stream function; Sv), SSH (centimeter), \n",
    "\n",
    "\n"
   ]
  }
 ],
 "metadata": {
  "kernelspec": {
   "display_name": "Python 3 (ipykernel)",
   "language": "python",
   "name": "python3"
  },
  "language_info": {
   "codemirror_mode": {
    "name": "ipython",
    "version": 3
   },
   "file_extension": ".py",
   "mimetype": "text/x-python",
   "name": "python",
   "nbconvert_exporter": "python",
   "pygments_lexer": "ipython3",
   "version": "3.11.4"
  }
 },
 "nbformat": 4,
 "nbformat_minor": 5
}
